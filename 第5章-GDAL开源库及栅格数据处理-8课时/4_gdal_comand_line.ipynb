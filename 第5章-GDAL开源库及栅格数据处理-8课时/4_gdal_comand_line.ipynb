{
 "cells": [
  {
   "cell_type": "markdown",
   "metadata": {},
   "source": [
    "#### gdal命令行工具\n",
    "通过notebook演示,需在命令前加'!'."
   ]
  },
  {
   "cell_type": "markdown",
   "metadata": {},
   "source": [
    "影像裁剪: gdal_translate   \n",
    "1. 重采样（指定分辨率）   \n",
    "gdal_translate -co COMPRESS=LZW -tr 100 100 -r average $path_in $path_out    \n",
    "2. 重采样（指定输出影像尺寸）   \n",
    "gdal_translate -co COMPRESS=LZW -outsize 100 100 -r average $path_in $path_out      \n",
    "3. 裁剪（基于空间范围, extent: 'left up right down', 例如: extent='72 38 84 34'）  \n",
    "gdal_translate -co COMPRESS=LZW -projwin $extent $path_in $path_out     \n",
    "(参考：https://gdal.org/programs/gdal_translate.html)    \n",
    "\n"
   ]
  },
  {
   "cell_type": "code",
   "execution_count": 9,
   "metadata": {},
   "outputs": [
    {
     "name": "stdout",
     "output_type": "stream",
     "text": [
      "Input file size is 1490, 1630\n",
      "0...10...20...30...40...50...60...70...80...90...100 - done.\n"
     ]
    }
   ],
   "source": [
    "path_in = 'data/Section-6/s2_chenggong_20200411_6bands_20m.tif'   \n",
    "path_out = 'data/Section-6/s2_chenggong_20200411_6bands_20m_subs2.tif'   \n",
    "# extent = '882491 2758560 891022 2750434'      \n",
    "extent = '886397 2752813 893940 2748279'     \n",
    "# !gdal_translate -co COMPRESS=LZW -tr 100 100 -r average $path_in $path_out   \n",
    "# !gdal_translate -co COMPRESS=LZW -outsize 100 100 -r average $path_in $path_out   \n",
    "!gdal_translate -co COMPRESS=LZW -projwin $extent $path_in $path_out   \n"
   ]
  },
  {
   "cell_type": "markdown",
   "metadata": {},
   "source": [
    "gdalwarp    \n",
    "1. 坐标系转换(地理坐标系->投影坐标系)   \n",
    "gdalwarp -co COMPRESS=LZW -overwrite -s_srs EPSG:4326 -t_srs EPSG:32644 -r bilinear input.tif output.tif     \n",
    "1. 裁剪(基于矢量数据)    \n",
    "gdalwarp -co COMPRESS=LZW -cutline $path_shp -crop_to_cutline $path_input $path_output     \n",
    "参考：https://gdal.org/programs/gdalwarp.html\n"
   ]
  },
  {
   "cell_type": "code",
   "execution_count": null,
   "metadata": {},
   "outputs": [],
   "source": [
    "# path_in = 'data/Section-6/s2_chenggong_20200411_6bands_20m.tif'   ### 投影: wgs84-utm47\n",
    "# path_out = 'data/Section-6/s2_chenggong_20200411_6bands_20m_wgs84.tif'\n",
    "# !gdalwarp -co COMPRESS=LZW -overwrite -s_srs EPSG:32647 -t_srs EPSG:4326 -r bilinear $path_in $path_out  \n"
   ]
  },
  {
   "cell_type": "markdown",
   "metadata": {},
   "source": [
    "影像拼接：gdal_merge    \n",
    "1. 影像拼接（-init:拼接影像初始化值。-n:拼接过程忽略值）  \n",
    "gdal_merge.py -co COMPRESS=LZW -init 0 -o $path_out $path_in_1 $path_in_2 $path_in_3   \n",
    "(参考：https://gdal.org/programs/gdal_merge.html)\n"
   ]
  },
  {
   "cell_type": "code",
   "execution_count": 10,
   "metadata": {},
   "outputs": [
    {
     "name": "stdout",
     "output_type": "stream",
     "text": [
      "0...10...20...30...40...50...60...70...80...90...100 - done.\n"
     ]
    }
   ],
   "source": [
    "path_in_1 = 'data/Section-6/s2_chenggong_20200411_6bands_20m_subs.tif'\n",
    "path_in_2 = 'data/Section-6/s2_chenggong_20200411_6bands_20m_subs2.tif'\n",
    "path_out = 'data/Section-6/s2_chenggong_20200411_6bands_20m_subs_mosaic.tif'\n",
    "!gdal_merge.py -co COMPRESS=LZW -init 0 -o $path_out $path_in_1 $path_in_2\n",
    "\n"
   ]
  },
  {
   "cell_type": "markdown",
   "metadata": {},
   "source": [
    "### gdal_polygonize.py   \n",
    "1. 遥感影像矢量化（无法对特定DN值的像素进行矢量化。）    \n",
    "gdal_polygonize.py $path_img $path_img2polygon     \n",
    "参考：https://gdal.org/programs/gdal_polygonize.html）   \n",
    "\n"
   ]
  },
  {
   "cell_type": "code",
   "execution_count": 12,
   "metadata": {},
   "outputs": [
    {
     "name": "stdout",
     "output_type": "stream",
     "text": [
      "Creating output data/Section-6/s2_chenggong_mndwi_thre025_poly.gpkg of format GPKG.\n",
      "0...10...20...30...40...50...60...70...80...90...100 - done.\n"
     ]
    }
   ],
   "source": [
    "# path_img = 'data/Section-6/s2_chenggong_mndwi_thre025.tif'\n",
    "# path_vec = 'data/Section-6/s2_chenggong_mndwi_thre025_poly.gpkg'\n",
    "# !gdal_polygonize.py $path_img $path_vec\n"
   ]
  },
  {
   "cell_type": "markdown",
   "metadata": {},
   "source": [
    "gdal_rasterize   \n",
    "1. 矢量数据栅格化（-b:波段次序，1代表一个波段，-a：像元值对应的矢量数据属性名）     \n",
    "gdal_rasterize -ts 1000 1000 -burn 1 $path_vec $path_raster   \n",
    "参考：https://gdal.org/programs/gdal_rasterize.html  \n"
   ]
  },
  {
   "cell_type": "code",
   "execution_count": 17,
   "metadata": {},
   "outputs": [
    {
     "name": "stdout",
     "output_type": "stream",
     "text": [
      "0...10...20...30...40...50...60...70...80...90...100 - done.\n"
     ]
    }
   ],
   "source": [
    "# path_vec = 'data/Section-6/s2_chenggong_mndwi_thre025_poly.gpkg'\n",
    "# path_raster = 'data/Section-6/s2_chenggong_mndwi_poly2raster.tif'\n",
    "# !gdal_rasterize -ts 1000 1000 -burn 10 $path_vec $path_raster \n"
   ]
  },
  {
   "cell_type": "code",
   "execution_count": null,
   "metadata": {},
   "outputs": [],
   "source": [
    "\n"
   ]
  }
 ],
 "metadata": {
  "kernelspec": {
   "display_name": "gis-course",
   "language": "python",
   "name": "python3"
  },
  "language_info": {
   "codemirror_mode": {
    "name": "ipython",
    "version": 3
   },
   "file_extension": ".py",
   "mimetype": "text/x-python",
   "name": "python",
   "nbconvert_exporter": "python",
   "pygments_lexer": "ipython3",
   "version": "3.10.14"
  }
 },
 "nbformat": 4,
 "nbformat_minor": 2
}
